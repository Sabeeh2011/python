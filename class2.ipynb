{
 "cells": [
  {
   "cell_type": "code",
   "execution_count": 1,
   "metadata": {},
   "outputs": [
    {
     "name": "stdout",
     "output_type": "stream",
     "text": [
      "\n",
      "\n",
      "PIAIC Student Card\n",
      "Student Name:tahir\n",
      "Father Name:imam\n",
      "age:30\n",
      "Total 98\n",
      "\n",
      "\n"
     ]
    }
   ],
   "source": [
    "name:str=\"tahir\";\n",
    "f_name:str=\"imam\";\n",
    "age:int=30;\n",
    "card:str=f\"\"\"\n",
    "\n",
    "PIAIC Student Card\n",
    "Student Name:{name}\n",
    "Father Name:{f_name}\n",
    "age:{age}\n",
    "Total {2+9+87}\n",
    "\n",
    "\"\"\"\n",
    "print(card)\n"
   ]
  },
  {
   "cell_type": "code",
   "execution_count": null,
   "metadata": {},
   "outputs": [],
   "source": []
  },
  {
   "cell_type": "code",
   "execution_count": 2,
   "metadata": {},
   "outputs": [
    {
     "data": {
      "text/plain": [
       "'\\nStudent Name={name}\\n'"
      ]
     },
     "execution_count": 2,
     "metadata": {},
     "output_type": "execute_result"
    }
   ],
   "source": [
    "f\"\"\"\n",
    "Student Name={{name}}\n",
    "\"\"\""
   ]
  },
  {
   "cell_type": "code",
   "execution_count": 9,
   "metadata": {},
   "outputs": [
    {
     "name": "stdout",
     "output_type": "stream",
     "text": [
      "\n",
      "PIAIC Student Card\n",
      "Student Name=tahir\n",
      "Father Name=imam\n",
      "Degree=Masters in Commerce\n",
      "Ag=30\n",
      "\n"
     ]
    }
   ],
   "source": [
    "name:str=\"tahir\";\n",
    "f_name:str=\"imam\";\n",
    "education:str=\"Masters in Commerce\"\n",
    "age:int=30;\n",
    "\n",
    "card :str=f\"\"\"\n",
    "PIAIC Student Card\n",
    "Student Name={name}\n",
    "Father Name={f_name}\n",
    "Degree={education}\n",
    "Ag={age}\n",
    "\"\"\"\n",
    "print(card)\n"
   ]
  },
  {
   "cell_type": "code",
   "execution_count": 10,
   "metadata": {},
   "outputs": [
    {
     "name": "stdout",
     "output_type": "stream",
     "text": [
      "\n",
      "PIAIC Student Card\n",
      "Student Name=tahir\n",
      "Father Name=imam\n",
      "Degree=Masters in Commerce\n",
      "Ag=30\n",
      "\n"
     ]
    }
   ],
   "source": [
    "name:str=\"tahir\";\n",
    "f_name:str=\"imam\";\n",
    "education:str=\"Masters in Commerce\"\n",
    "age:int=30;\n",
    "\n",
    "card :str=f\"\"\"\n",
    "PIAIC Student Card\n",
    "Student Name=%s\n",
    "Father Name=%s\n",
    "Degree=%s\n",
    "Ag=%d\n",
    "\"\"\"%(name,f_name,education,age)\n",
    "print(card)"
   ]
  },
  {
   "cell_type": "code",
   "execution_count": 27,
   "metadata": {},
   "outputs": [
    {
     "name": "stdout",
     "output_type": "stream",
     "text": [
      "\n",
      "PIAIC Student Card\n",
      "Student Name:imam\n",
      "Father Name:tahir\n",
      "Degree:30\n",
      "Age:Masters in Commerce\n",
      "\n"
     ]
    }
   ],
   "source": [
    "name:str=\"tahir\"\n",
    "fname:str=\"imam\"\n",
    "education:str=\"Masters in Commerce\"\n",
    "age:int=30\n",
    "\n",
    "card :str=\"\"\"\n",
    "PIAIC Student Card\n",
    "Student Name:{}\n",
    "Father Name:{}\n",
    "Degree:{}\n",
    "Age:{}\n",
    "\"\"\".format(f_name,name,age,education)\n",
    "print(card)"
   ]
  },
  {
   "cell_type": "code",
   "execution_count": 12,
   "metadata": {},
   "outputs": [
    {
     "name": "stdout",
     "output_type": "stream",
     "text": [
      "Muhammad ali johar\n",
      "Muhammad Ali Johar\n",
      "muhammad ali johar\n"
     ]
    }
   ],
   "source": [
    "name:str=\"Muhammad ali johar\"\n",
    "print(name.capitalize())\n",
    "print(name.title())\n",
    "print(name.lower())"
   ]
  },
  {
   "cell_type": "code",
   "execution_count": 15,
   "metadata": {},
   "outputs": [
    {
     "data": {
      "text/plain": [
       "'pakistan value a=7 and value of b=6'"
      ]
     },
     "execution_count": 15,
     "metadata": {},
     "output_type": "execute_result"
    }
   ],
   "source": [
    "a=7\n",
    "b=6\n",
    "\"pakistan value a={} and value of b={}\".format(a,b)"
   ]
  },
  {
   "cell_type": "code",
   "execution_count": 16,
   "metadata": {},
   "outputs": [
    {
     "data": {
      "text/plain": [
       "'From the value given above a=10 and b=15'"
      ]
     },
     "execution_count": 16,
     "metadata": {},
     "output_type": "execute_result"
    }
   ],
   "source": [
    "a=10\n",
    "b=15\n",
    "\"From the value given above a={} and b={}\".format(a,b)"
   ]
  },
  {
   "cell_type": "code",
   "execution_count": 28,
   "metadata": {},
   "outputs": [
    {
     "name": "stdout",
     "output_type": "stream",
     "text": [
      "\n",
      "PIAIC Student Card\n",
      "Student Name:tahir\n",
      "Father Name:imam\n",
      "Degree:Masters in Commerce\n",
      "Age:30\n",
      "\n"
     ]
    }
   ],
   "source": [
    "name:str=\"tahir\"\n",
    "fname:str=\"imam\"\n",
    "education:str=\"Masters in Commerce\"\n",
    "age:int=30\n",
    "\n",
    "card :str=\"\"\"\n",
    "PIAIC Student Card\n",
    "Student Name:{a}\n",
    "Father Name:{b}\n",
    "Degree:{c}\n",
    "Age:{d}\n",
    "\"\"\".format(b=f_name,a=name,d=age,c=education)\n",
    "print(card)"
   ]
  },
  {
   "cell_type": "code",
   "execution_count": 3,
   "metadata": {},
   "outputs": [
    {
     "name": "stdout",
     "output_type": "stream",
     "text": [
      "My Name is Tahir\n",
      "14\n"
     ]
    }
   ],
   "source": [
    "sudent_data:str=\"\"\"\n",
    "print(\"My Name is Tahir\")\n",
    "a=6\n",
    "b=8\n",
    "print(a+b)\n",
    "\"\"\"\n",
    "exec(sudent_data)"
   ]
  },
  {
   "cell_type": "code",
   "execution_count": 4,
   "metadata": {},
   "outputs": [
    {
     "data": {
      "text/plain": [
       "'    Tahir         Mahmood   '"
      ]
     },
     "metadata": {},
     "output_type": "display_data"
    },
    {
     "data": {
      "text/plain": [
       "' Tahir Mahmood '"
      ]
     },
     "metadata": {},
     "output_type": "display_data"
    }
   ],
   "source": [
    "import re\n",
    "name:str=\"    Tahir         Mahmood   \"\n",
    "display(name)\n",
    "name1:str=re.sub(' {2,100} ',' ',name)\n",
    "display(name1)"
   ]
  },
  {
   "cell_type": "code",
   "execution_count": 48,
   "metadata": {},
   "outputs": [
    {
     "name": "stdout",
     "output_type": "stream",
     "text": [
      "Muhammad Qasim\n",
      "MUHAMMAD QASIM\n",
      "<built-in method count of str object at 0x00000248E5328CF0>\n"
     ]
    }
   ],
   "source": [
    "name:str=\"muhammad qasim\"\n",
    "print(name.title())\n",
    "print(name.upper())\n",
    "print(name.count)"
   ]
  },
  {
   "cell_type": "code",
   "execution_count": 3,
   "metadata": {},
   "outputs": [
    {
     "name": "stdout",
     "output_type": "stream",
     "text": [
      "21\n"
     ]
    }
   ],
   "source": [
    "print(6+7+8)"
   ]
  },
  {
   "cell_type": "code",
   "execution_count": 4,
   "metadata": {},
   "outputs": [
    {
     "name": "stdout",
     "output_type": "stream",
     "text": [
      "21\n"
     ]
    }
   ],
   "source": [
    "print(6+7+8)"
   ]
  },
  {
   "cell_type": "code",
   "execution_count": 9,
   "metadata": {},
   "outputs": [
    {
     "data": {
      "text/plain": [
       "'value of a is = 7 and value of b is= 8'"
      ]
     },
     "execution_count": 9,
     "metadata": {},
     "output_type": "execute_result"
    }
   ],
   "source": [
    "a=7;\n",
    "b=8;\n",
    "\"value of a is = {} and value of b is= {}\".format(a,b)"
   ]
  },
  {
   "cell_type": "code",
   "execution_count": 6,
   "metadata": {},
   "outputs": [
    {
     "name": "stdout",
     "output_type": "stream",
     "text": [
      "I love Python\n",
      "15\n"
     ]
    }
   ],
   "source": [
    "studnet_data:str=\"\"\"\n",
    "print(\"I love Python\")\n",
    "a:int=7\n",
    "b:int=8\n",
    "print(a+b)\n",
    "\"\"\"\n",
    "exec(studnet_data)"
   ]
  },
  {
   "cell_type": "code",
   "execution_count": 8,
   "metadata": {},
   "outputs": [
    {
     "data": {
      "text/plain": [
       "'Tahir            '"
      ]
     },
     "metadata": {},
     "output_type": "display_data"
    }
   ],
   "source": [
    "name:str=\"     Tahir            \"\n",
    "display(name.lstrip())"
   ]
  },
  {
   "cell_type": "code",
   "execution_count": 14,
   "metadata": {},
   "outputs": [
    {
     "data": {
      "text/plain": [
       "'     Tahir  Mahmod          '"
      ]
     },
     "metadata": {},
     "output_type": "display_data"
    },
    {
     "data": {
      "text/plain": [
       "' Tahir Mahmod '"
      ]
     },
     "metadata": {},
     "output_type": "display_data"
    }
   ],
   "source": [
    "import re\n",
    "name:str=\"     Tahir  Mahmod          \"\n",
    "display(name)\n",
    "name1:str=re.sub(\" {2,100}\" , \" \", name)\n",
    "display(name1)"
   ]
  },
  {
   "cell_type": "code",
   "execution_count": null,
   "metadata": {},
   "outputs": [],
   "source": [
    "name:str=\"     Tahir Mahmood  \"\n"
   ]
  },
  {
   "cell_type": "code",
   "execution_count": 16,
   "metadata": {},
   "outputs": [
    {
     "data": {
      "text/plain": [
       "'www.google.com'"
      ]
     },
     "execution_count": 16,
     "metadata": {},
     "output_type": "execute_result"
    }
   ],
   "source": [
    "url:str=\"http//:www.google.com\"\n",
    "url.removeprefix(\"http//:\")"
   ]
  }
 ],
 "metadata": {
  "kernelspec": {
   "display_name": "Python 3",
   "language": "python",
   "name": "python3"
  },
  "language_info": {
   "codemirror_mode": {
    "name": "ipython",
    "version": 3
   },
   "file_extension": ".py",
   "mimetype": "text/x-python",
   "name": "python",
   "nbconvert_exporter": "python",
   "pygments_lexer": "ipython3",
   "version": "3.12.0"
  }
 },
 "nbformat": 4,
 "nbformat_minor": 2
}
