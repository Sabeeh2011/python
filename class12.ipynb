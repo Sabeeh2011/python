{
 "cells": [
  {
   "cell_type": "code",
   "execution_count": 6,
   "metadata": {},
   "outputs": [
    {
     "name": "stdout",
     "output_type": "stream",
     "text": [
      "some thing went wrong\n",
      " , name 'age' is not defined\n"
     ]
    }
   ],
   "source": [
    "try:\n",
    "    print(age)\n",
    "except Exception as e:\n",
    "    print(f\"some thing went wrong\\n , {e}\")"
   ]
  },
  {
   "cell_type": "code",
   "execution_count": 14,
   "metadata": {},
   "outputs": [
    {
     "ename": "ageError",
     "evalue": "You are not eligible",
     "output_type": "error",
     "traceback": [
      "\u001b[1;31m---------------------------------------------------------------------------\u001b[0m",
      "\u001b[1;31mageError\u001b[0m                                  Traceback (most recent call last)",
      "Cell \u001b[1;32mIn[14], line 10\u001b[0m\n\u001b[0;32m      8\u001b[0m \u001b[38;5;28;01mclass\u001b[39;00m \u001b[38;5;21;01mageError\u001b[39;00m(\u001b[38;5;167;01mException\u001b[39;00m):\n\u001b[0;32m      9\u001b[0m         \u001b[38;5;28;01mpass\u001b[39;00m\n\u001b[1;32m---> 10\u001b[0m student1 \u001b[38;5;241m=\u001b[39m\u001b[43mstudentCard\u001b[49m\u001b[43m(\u001b[49m\u001b[38;5;124;43m\"\u001b[39;49m\u001b[38;5;124;43mTahir\u001b[39;49m\u001b[38;5;124;43m\"\u001b[39;49m\u001b[43m \u001b[49m\u001b[43m,\u001b[49m\u001b[43m \u001b[49m\u001b[38;5;241;43m12\u001b[39;49m\u001b[43m \u001b[49m\u001b[43m,\u001b[49m\u001b[43m \u001b[49m\u001b[38;5;241;43m6\u001b[39;49m\u001b[43m)\u001b[49m\n\u001b[0;32m     11\u001b[0m \u001b[38;5;28mprint\u001b[39m(student1\u001b[38;5;241m.\u001b[39mage, student1\u001b[38;5;241m.\u001b[39mroll_number,student1\u001b[38;5;241m.\u001b[39mn)\n",
      "Cell \u001b[1;32mIn[14], line 4\u001b[0m, in \u001b[0;36mstudentCard.__init__\u001b[1;34m(self, name, roll_number, age)\u001b[0m\n\u001b[0;32m      2\u001b[0m \u001b[38;5;28;01mdef\u001b[39;00m \u001b[38;5;21m__init__\u001b[39m(\u001b[38;5;28mself\u001b[39m, name:\u001b[38;5;28mstr\u001b[39m, roll_number:\u001b[38;5;28mint\u001b[39m, age:\u001b[38;5;28mint\u001b[39m) \u001b[38;5;241m-\u001b[39m\u001b[38;5;241m>\u001b[39m \u001b[38;5;28;01mNone\u001b[39;00m:\n\u001b[0;32m      3\u001b[0m     \u001b[38;5;28;01mif\u001b[39;00m age\u001b[38;5;241m<\u001b[39m\u001b[38;5;241m18\u001b[39m \u001b[38;5;129;01mor\u001b[39;00m age\u001b[38;5;241m>\u001b[39m\u001b[38;5;241m60\u001b[39m:\n\u001b[1;32m----> 4\u001b[0m         \u001b[38;5;28;01mraise\u001b[39;00m ageError(\u001b[38;5;124m\"\u001b[39m\u001b[38;5;124mYou are not eligible\u001b[39m\u001b[38;5;124m\"\u001b[39m)\n\u001b[0;32m      5\u001b[0m     \u001b[38;5;28mself\u001b[39m\u001b[38;5;241m.\u001b[39mname\u001b[38;5;241m=\u001b[39mname\n\u001b[0;32m      6\u001b[0m     \u001b[38;5;28mself\u001b[39m\u001b[38;5;241m.\u001b[39mroll_number\u001b[38;5;241m=\u001b[39mname\n",
      "\u001b[1;31mageError\u001b[0m: You are not eligible"
     ]
    }
   ],
   "source": [
    "class studentCard():\n",
    "    def __init__(self, name:str, roll_number:int, age:int) -> None:\n",
    "        if age<18 or age>60:\n",
    "            raise ageError(\"You are not eligible\")\n",
    "        self.name=name\n",
    "        self.roll_number=name\n",
    "        self.age =age\n",
    "class ageError(Exception):\n",
    "        pass\n",
    "student1 =studentCard(\"Tahir\" , 12 , 6)\n",
    "print(student1.age, student1.roll_number,student1.name)"
   ]
  },
  {
   "cell_type": "code",
   "execution_count": null,
   "metadata": {},
   "outputs": [],
   "source": []
  }
 ],
 "metadata": {
  "kernelspec": {
   "display_name": "Python 3",
   "language": "python",
   "name": "python3"
  },
  "language_info": {
   "codemirror_mode": {
    "name": "ipython",
    "version": 3
   },
   "file_extension": ".py",
   "mimetype": "text/x-python",
   "name": "python",
   "nbconvert_exporter": "python",
   "pygments_lexer": "ipython3",
   "version": "3.12.0"
  }
 },
 "nbformat": 4,
 "nbformat_minor": 2
}
