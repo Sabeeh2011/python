{
 "cells": [
  {
   "cell_type": "code",
   "execution_count": 2,
   "metadata": {},
   "outputs": [
    {
     "name": "stdout",
     "output_type": "stream",
     "text": [
      "['A', 'B', 'C', 'D', 'E', 'F', 'G', 'H', 'I', 'J', 'K', 'L', 'M', 'N', 'O', 'P', 'Q', 'R', 'S', 'T', 'U', 'V', 'W', 'X', 'Y', 'Z']\n"
     ]
    }
   ],
   "source": [
    "characters :list[str]=list(\"ABCDEFGHIJKLMNOPQRSTUVWXYZ\");\n",
    "print(characters)"
   ]
  },
  {
   "cell_type": "code",
   "execution_count": 7,
   "metadata": {},
   "outputs": [
    {
     "name": "stdout",
     "output_type": "stream",
     "text": [
      "['A', 'B', 'C', 'D', 'E', 'F', 'G', 'H', 'I', 'J', 'K', 'L', 'M', 'N', 'O', 'P', 'Q', 'R', 'S', 'T', 'U', 'V', 'W', 'X', 'Y', 'Z']\n",
      "['A', 'B']\n",
      "['A', 'B']\n",
      "['A', 'B']\n",
      "['A', 'B']\n",
      "['A', 'B']\n"
     ]
    }
   ],
   "source": [
    "characters:list[str]=['A', 'B', 'C', 'D', 'E', 'F', 'G', 'H', 'I', 'J', 'K', 'L', 'M', 'N', 'O', 'P', 'Q', 'R', 'S', 'T', 'U', 'V', 'W', 'X', 'Y', 'Z']\n",
    "print(characters)\n",
    "print(characters[0:2])\n",
    "print(characters[-26:-24])\n",
    "print(characters[:2])\n",
    "print(characters[0:2:1])\n",
    "print(characters[0:2:])"
   ]
  },
  {
   "cell_type": "code",
   "execution_count": 13,
   "metadata": {},
   "outputs": [],
   "source": [
    "characters:list[str]=['A', 'B', 'C', 'D', 'E', 'F', 'G', 'H']\n"
   ]
  },
  {
   "cell_type": "code",
   "execution_count": 18,
   "metadata": {},
   "outputs": [
    {
     "name": "stdout",
     "output_type": "stream",
     "text": [
      "['G', 'F', 'E']\n"
     ]
    }
   ],
   "source": [
    "print (characters[-2:-5:-1])"
   ]
  },
  {
   "cell_type": "code",
   "execution_count": 23,
   "metadata": {},
   "outputs": [
    {
     "name": "stdout",
     "output_type": "stream",
     "text": [
      "['Tahir', 'Saqib', 'Muneeb', 123, True]\n",
      "['Tahir Mahmood', 'Saqib', 'Muneeb', 123, True]\n",
      "['Tahir Mahmood', 'Saqib', 'Muneeb', True]\n"
     ]
    }
   ],
   "source": [
    "names =[\"Tahir\",\"Saqib\",\"Muneeb\",123,True];\n",
    "print(names)\n",
    "names[0]=\"Tahir Mahmood\"\n",
    "print(names)\n",
    "del names[3]\n",
    "print(names)"
   ]
  },
  {
   "cell_type": "code",
   "execution_count": 27,
   "metadata": {},
   "outputs": [
    {
     "name": "stdout",
     "output_type": "stream",
     "text": [
      "Saqib\n",
      "[]\n"
     ]
    }
   ],
   "source": [
    "vaaa:str=names.pop(0)\n",
    "print(vaaa)\n",
    "print(names)"
   ]
  },
  {
   "cell_type": "code",
   "execution_count": 30,
   "metadata": {},
   "outputs": [
    {
     "name": "stdout",
     "output_type": "stream",
     "text": [
      "['Sir Zia', 'Sir Inam']\n"
     ]
    }
   ],
   "source": [
    "names:list[str]=[]\n",
    "names.append(\"Sir Zia\")\n",
    "names.append(\"Sir Inam\")\n",
    "print(names)"
   ]
  },
  {
   "cell_type": "code",
   "execution_count": 32,
   "metadata": {},
   "outputs": [
    {
     "name": "stdout",
     "output_type": "stream",
     "text": [
      "['Pakistan Legends:', 'Pakistan Legends:', 'Sir Zia', 'Sir Inam']\n"
     ]
    }
   ],
   "source": [
    "names.insert(0,\"Pakistan Legends:\")\n",
    "print(names)"
   ]
  },
  {
   "cell_type": "code",
   "execution_count": 34,
   "metadata": {},
   "outputs": [
    {
     "name": "stdout",
     "output_type": "stream",
     "text": [
      "['a', 'b', 'c', 'd']\n",
      "['a', 'b', 'c', 'd']\n",
      "['aa', 'b', 'c', 'd']\n",
      "['aa', 'b', 'c', 'd']\n"
     ]
    }
   ],
   "source": [
    "a : list[str]=[\"a\",\"b\",\"c\",\"d\"];\n",
    "b = a;\n",
    "print(a)\n",
    "print(b)\n",
    "b[0]=\"aa\"\n",
    "print(a)\n",
    "print(b)"
   ]
  },
  {
   "cell_type": "code",
   "execution_count": 35,
   "metadata": {},
   "outputs": [
    {
     "name": "stdout",
     "output_type": "stream",
     "text": [
      "['aa', 'b', 'c', 'd']\n",
      "['Pakistan', 'b', 'c', 'd']\n"
     ]
    }
   ],
   "source": [
    "b=a.copy();\n",
    "b[0]=\"Pakistan\"\n",
    "print(a);\n",
    "print(b);"
   ]
  },
  {
   "cell_type": "code",
   "execution_count": 36,
   "metadata": {},
   "outputs": [
    {
     "name": "stdout",
     "output_type": "stream",
     "text": [
      "2\n"
     ]
    }
   ],
   "source": [
    "a :list[str]=[\"Pakistan\", \"India\", \"Dilbur\", \"Pakistan\"]\n",
    "print(a.count(\"Pakistan\"))\n"
   ]
  },
  {
   "cell_type": "code",
   "execution_count": 37,
   "metadata": {},
   "outputs": [
    {
     "name": "stdout",
     "output_type": "stream",
     "text": [
      "['India', 'Dilbur', 'Pakistan']\n"
     ]
    }
   ],
   "source": [
    "a.remove(\"Pakistan\")\n",
    "print(a)"
   ]
  }
 ],
 "metadata": {
  "kernelspec": {
   "display_name": "Python 3",
   "language": "python",
   "name": "python3"
  },
  "language_info": {
   "codemirror_mode": {
    "name": "ipython",
    "version": 3
   },
   "file_extension": ".py",
   "mimetype": "text/x-python",
   "name": "python",
   "nbconvert_exporter": "python",
   "pygments_lexer": "ipython3",
   "version": "3.12.0"
  }
 },
 "nbformat": 4,
 "nbformat_minor": 2
}
