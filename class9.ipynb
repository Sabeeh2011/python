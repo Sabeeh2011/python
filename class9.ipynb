{
 "cells": [
  {
   "cell_type": "code",
   "execution_count": 1,
   "metadata": {},
   "outputs": [
    {
     "name": "stdout",
     "output_type": "stream",
     "text": [
      "1\n",
      "2\n",
      "3\n",
      "4\n",
      "5\n",
      "6\n"
     ]
    }
   ],
   "source": [
    "l1 : list[int]=[1,2,3,4,5,6]\n",
    "for n in l1:\n",
    "    print(n)"
   ]
  },
  {
   "cell_type": "code",
   "execution_count": 4,
   "metadata": {},
   "outputs": [
    {
     "name": "stdout",
     "output_type": "stream",
     "text": [
      "Th number is 1\n",
      "Th number is 2\n",
      "Th number is 3\n",
      "Th number is 4\n",
      "Th number is 5\n",
      "Th number is 6\n"
     ]
    }
   ],
   "source": [
    "l1 : list[int]=[1,2,3,4,5,6]\n",
    "for n in l1:\n",
    "    print(f\"Th number is {n}\")"
   ]
  },
  {
   "cell_type": "code",
   "execution_count": 6,
   "metadata": {},
   "outputs": [
    {
     "name": "stdout",
     "output_type": "stream",
     "text": [
      "the number in tuple is 1\n",
      "the number in tuple is 2\n",
      "the number in tuple is 3\n",
      "the number in tuple is 4\n",
      "the number in tuple is 5\n",
      "the number in tuple is 6\n"
     ]
    }
   ],
   "source": [
    "l1 : tuple[int]=(1,2,3,4,5,6)\n",
    "for n in l1:\n",
    "    print(f\"the number in tuple is {n}\")"
   ]
  },
  {
   "cell_type": "code",
   "execution_count": 7,
   "metadata": {},
   "outputs": [
    {
     "name": "stdout",
     "output_type": "stream",
     "text": [
      "The character is P\n",
      "The character is a\n",
      "The character is k\n",
      "The character is i\n",
      "The character is s\n",
      "The character is t\n",
      "The character is a\n",
      "The character is n\n"
     ]
    }
   ],
   "source": [
    "l2 : str=\"Pakistan\";\n",
    "for c in l2:\n",
    "    print(f\"The character is {c}\")"
   ]
  },
  {
   "cell_type": "code",
   "execution_count": 8,
   "metadata": {},
   "outputs": [
    {
     "name": "stdout",
     "output_type": "stream",
     "text": [
      "The key is name and value is Tahir\n",
      "The key is f_name and value is ImamBakhsh\n"
     ]
    }
   ],
   "source": [
    "l3:dict[str,str]={\"name\":\"Tahir\", \"f_name\":\"ImamBakhsh\"}\n",
    "for c in l3:\n",
    "    print(f\"The key is {c} and value is {l3[c]}\")"
   ]
  },
  {
   "cell_type": "code",
   "execution_count": 11,
   "metadata": {},
   "outputs": [
    {
     "name": "stdout",
     "output_type": "stream",
     "text": [
      "The value is 1\n",
      "The value is 2\n",
      "The value is 11\n",
      "The value is 4\n"
     ]
    }
   ],
   "source": [
    "l4 : list[set[int]]=list({1,2,11,1,1,4});\n",
    "for n in l4:\n",
    "    print(f\"The value is {n}\")"
   ]
  },
  {
   "cell_type": "code",
   "execution_count": 1,
   "metadata": {},
   "outputs": [
    {
     "name": "stdout",
     "output_type": "stream",
     "text": [
      "fdfdfdfd\n"
     ]
    }
   ],
   "source": [
    "name:str = input(\"What is your name \\t\")\n",
    "print(name)\n"
   ]
  },
  {
   "cell_type": "code",
   "execution_count": 16,
   "metadata": {},
   "outputs": [
    {
     "name": "stdout",
     "output_type": "stream",
     "text": [
      "current number is : 0\n",
      "current number is : 1\n",
      "current number is : 2\n",
      "current number is : 3\n",
      "current number is : 4\n",
      "current number is : 5\n",
      "current number is : 6\n",
      "current number is : 7\n",
      "current number is : 8\n",
      "current number is : 9\n"
     ]
    }
   ],
   "source": [
    "flag : bool = True;\n",
    "current_number : int =0;\n",
    "while flag:\n",
    "    print(f\"current number is : {current_number}\");\n",
    "    current_number =current_number+1;\n",
    "    if current_number==10:\n",
    "        break\n",
    "\n"
   ]
  },
  {
   "cell_type": "code",
   "execution_count": 20,
   "metadata": {},
   "outputs": [
    {
     "name": "stdout",
     "output_type": "stream",
     "text": [
      "Current Number is 0 and corresponding value in list is 100 \n",
      "Current Number is 1 and corresponding value in list is 200 \n",
      "Current Number is 2 and corresponding value in list is 300 \n"
     ]
    }
   ],
   "source": [
    "l1 : list[int]=[100,200,300];\n",
    "index : int =0;\n",
    "while index <len(l1):\n",
    "    print(f\"Current Number is {index} and corresponding value in list is {l1[index]} \")\n",
    "    index +=1\n",
    "    "
   ]
  },
  {
   "cell_type": "code",
   "execution_count": 23,
   "metadata": {},
   "outputs": [
    {
     "name": "stdout",
     "output_type": "stream",
     "text": [
      "Write stop to exit\n",
      "Write stop to exit\n",
      "Write stop to exit\n"
     ]
    },
    {
     "data": {
      "text/plain": [
       "[{'name': 'f', 'education': 'f'}, {'name': 'f', 'education': 'f'}]"
      ]
     },
     "metadata": {},
     "output_type": "display_data"
    }
   ],
   "source": [
    "data : list[dict[str,str]]=[];\n",
    "flag : bool = True;\n",
    "while flag:\n",
    "    print(\"Write stop to exit\");\n",
    "    name:str = input (\"Enter your Name \\t\")  ;\n",
    "    edu:str = input (\"Enter your education, please\");\n",
    "    if name in ['stop'] or edu in ['stop']:\n",
    "        flag=False;\n",
    "        break\n",
    "    data.append({\"name\":name , \"education\" : edu})    \n",
    "display(data)"
   ]
  },
  {
   "cell_type": "code",
   "execution_count": 25,
   "metadata": {},
   "outputs": [
    {
     "name": "stdout",
     "output_type": "stream",
     "text": [
      "1\n",
      "2\n",
      "3\n",
      "4\n",
      "5\n"
     ]
    }
   ],
   "source": [
    "for i in range(1,11):\n",
    "    print(i)\n",
    "    if i ==5:\n",
    "        break"
   ]
  },
  {
   "cell_type": "code",
   "execution_count": 26,
   "metadata": {},
   "outputs": [
    {
     "name": "stdout",
     "output_type": "stream",
     "text": [
      " 2 x 1 = 2\n",
      " 2 x 2 = 4\n",
      " 2 x 3 = 6\n",
      " 2 x 4 = 8\n",
      " 2 x 5 = 10\n",
      " 2 x 6 = 12\n",
      " 2 x 7 = 14\n",
      " 2 x 8 = 16\n",
      " 2 x 9 = 18\n",
      " 2 x 10 = 20\n"
     ]
    }
   ],
   "source": [
    "for i in range(1,11):\n",
    "    print(f\" 2 x {i} = {2*i}\");\n"
   ]
  },
  {
   "cell_type": "code",
   "execution_count": 27,
   "metadata": {},
   "outputs": [
    {
     "name": "stdout",
     "output_type": "stream",
     "text": [
      "1\n",
      "2\n",
      "3\n",
      "7\n",
      "8\n",
      "12\n",
      "15\n",
      "18\n"
     ]
    }
   ],
   "source": [
    "l1:list[int]=[1,2,3,7,8,12,15,18];\n",
    "for n in l1:\n",
    "    print(n)"
   ]
  },
  {
   "cell_type": "code",
   "execution_count": 28,
   "metadata": {},
   "outputs": [
    {
     "name": "stdout",
     "output_type": "stream",
     "text": [
      "2\n",
      "8\n",
      "12\n",
      "18\n"
     ]
    }
   ],
   "source": [
    "l1:list[int]=[1,2,3,7,8,12,15,18];\n",
    "for n in l1:\n",
    "    if n%2==0:\n",
    "        print(n)"
   ]
  },
  {
   "cell_type": "code",
   "execution_count": 29,
   "metadata": {},
   "outputs": [
    {
     "data": {
      "text/plain": [
       "[2, 8, 12, 18]"
      ]
     },
     "execution_count": 29,
     "metadata": {},
     "output_type": "execute_result"
    }
   ],
   "source": [
    "l1:list[int]=[1,2,3,7,8,12,15,18];\n",
    "[n for n in l1 if n%2==0]\n",
    "    "
   ]
  },
  {
   "cell_type": "code",
   "execution_count": 30,
   "metadata": {},
   "outputs": [
    {
     "data": {
      "text/plain": [
       "[1, 3, 7, 15]"
      ]
     },
     "execution_count": 30,
     "metadata": {},
     "output_type": "execute_result"
    }
   ],
   "source": [
    "l1:list[int]=[1,2,3,7,8,12,15,18];\n",
    "[n for n in l1 if n%2!=0]"
   ]
  }
 ],
 "metadata": {
  "kernelspec": {
   "display_name": "Python 3",
   "language": "python",
   "name": "python3"
  },
  "language_info": {
   "codemirror_mode": {
    "name": "ipython",
    "version": 3
   },
   "file_extension": ".py",
   "mimetype": "text/x-python",
   "name": "python",
   "nbconvert_exporter": "python",
   "pygments_lexer": "ipython3",
   "version": "3.12.0"
  }
 },
 "nbformat": 4,
 "nbformat_minor": 2
}
