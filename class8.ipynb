{
 "cells": [
  {
   "cell_type": "code",
   "execution_count": 9,
   "metadata": {},
   "outputs": [],
   "source": [
    "from typing import Union\n",
    "# country_info:Union[str,list] = {\n",
    "#     \"name\": \"United States\",\n",
    "#     \"capital\": \"Washington, D.C.\",\n",
    "#     \"population\": 331000000,\n",
    "#     \"currency\": \"US Dollar\"\n",
    "#     cde:[1,n,h,4]\n",
    "# }\n",
    "# print(country_info[\"name\"])\n",
    "# print(country_info[\"population\"])\n",
    "# print(country_info[\"currency\"])\n",
    "\n",
    "\n",
    "Key= Union [int,str];\n",
    "Value=Union[int,str,dict, tuple, list, set];\n",
    "data:dict[Key,Value]={}"
   ]
  },
  {
   "cell_type": "code",
   "execution_count": 11,
   "metadata": {},
   "outputs": [
    {
     "name": "stdout",
     "output_type": "stream",
     "text": [
      "{'name': 'Tahir', 'fName': 'Imam Bakhsh', 'education': ('M.com', 'CA')}\n"
     ]
    }
   ],
   "source": [
    "data[\"name\"]=\"Tahir\";\n",
    "data[\"fName\"]=\"Imam Bakhsh\";\n",
    "data[\"education\"]=(\"M.com\" , \"CA\")\n",
    "print(data)"
   ]
  },
  {
   "cell_type": "code",
   "execution_count": 12,
   "metadata": {},
   "outputs": [
    {
     "name": "stdout",
     "output_type": "stream",
     "text": [
      "dict_keys(['name', 'fName', 'education'])\n",
      "dict_values(['Tahir', 'Imam Bakhsh', ('M.com', 'CA')])\n",
      "dict_items([('name', 'Tahir'), ('fName', 'Imam Bakhsh'), ('education', ('M.com', 'CA'))])\n"
     ]
    }
   ],
   "source": [
    "print(data.keys())\n",
    "print(data.values())\n",
    "print(data.items())"
   ]
  },
  {
   "cell_type": "code",
   "execution_count": 14,
   "metadata": {},
   "outputs": [
    {
     "name": "stdout",
     "output_type": "stream",
     "text": [
      "Tahir\n",
      "Imam Bakhsh\n",
      "('M.com', 'CA')\n"
     ]
    }
   ],
   "source": [
    "for v in data.values():\n",
    "    print(v)"
   ]
  },
  {
   "cell_type": "code",
   "execution_count": null,
   "metadata": {},
   "outputs": [],
   "source": [
    "Key= Union [int , str];\n",
    "Value=Union [int , str , list , dict , tuple , set]\n",
    "data : dict[Key , Value]={\"fname\": \"imam\",\n",
    "                            \"name\" :\"Tahir Mahmood\",\n",
    "                             \"education\" : \"M.com\" }"
   ]
  }
 ],
 "metadata": {
  "kernelspec": {
   "display_name": "Python 3",
   "language": "python",
   "name": "python3"
  },
  "language_info": {
   "codemirror_mode": {
    "name": "ipython",
    "version": 3
   },
   "file_extension": ".py",
   "mimetype": "text/x-python",
   "name": "python",
   "nbconvert_exporter": "python",
   "pygments_lexer": "ipython3",
   "version": "3.12.0"
  }
 },
 "nbformat": 4,
 "nbformat_minor": 2
}
