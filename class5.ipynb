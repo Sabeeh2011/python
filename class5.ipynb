{
 "cells": [
  {
   "cell_type": "code",
   "execution_count": 7,
   "metadata": {},
   "outputs": [
    {
     "name": "stdout",
     "output_type": "stream",
     "text": [
      "Not Found or Invalide User Name\n"
     ]
    }
   ],
   "source": [
    "from typing import List, Tuple\n",
    "data_base: List[Tuple[str, str]] = [(\"Tahir\", \"123\"), (\"Saqib\", \"456\"), (\"Muneeb\", \"789\")]\n",
    "user_name:str=input(\"Enter User Name\");\n",
    "user_password:str = input(\"Enter UserPassword\")\n",
    "for row in data_base:\n",
    "    user,password=row\n",
    "    \n",
    "    if user_name == user and user_password == password:\n",
    "        print(\"Valid User Name And Password\")\n",
    "        break\n",
    "else:\n",
    "    print(\"Not Found or Invalide User Name/Password\")"
   ]
  },
  {
   "cell_type": "code",
   "execution_count": 15,
   "metadata": {},
   "outputs": [
    {
     "name": "stdout",
     "output_type": "stream",
     "text": [
      "0 Tahir\n",
      "1 Mamood\n",
      "2 Khan\n"
     ]
    }
   ],
   "source": [
    "magicsians=[\"Tahir\",\"Mamood\", \"Khan\"]\n",
    "for index , name in list(enumerate(magicsians)):\n",
    "    print(index, name)"
   ]
  },
  {
   "cell_type": "code",
   "execution_count": 12,
   "metadata": {},
   "outputs": [
    {
     "data": {
      "text/plain": [
       "[3, 6, 9, 12, 15, 18]"
      ]
     },
     "execution_count": 12,
     "metadata": {},
     "output_type": "execute_result"
    }
   ],
   "source": [
    "list(range(10))\n",
    "list(range(3,21,3))"
   ]
  },
  {
   "cell_type": "code",
   "execution_count": 18,
   "metadata": {},
   "outputs": [
    {
     "name": "stdout",
     "output_type": "stream",
     "text": [
      "2 x 1 = 2\n",
      "2 x 2 = 4\n",
      "2 x 3 = 6\n",
      "2 x 4 = 8\n",
      "2 x 5 = 10\n",
      "2 x 6 = 12\n",
      "2 x 7 = 14\n",
      "2 x 8 = 16\n",
      "2 x 9 = 18\n",
      "2 x 10 = 20\n",
      "2 x 11 = 22\n",
      "2 x 12 = 24\n",
      "2 x 13 = 26\n",
      "2 x 14 = 28\n",
      "2 x 15 = 30\n",
      "2 x 16 = 32\n",
      "2 x 17 = 34\n",
      "2 x 18 = 36\n",
      "2 x 19 = 38\n",
      "2 x 20 = 40\n",
      "2 x 21 = 42\n",
      "2 x 22 = 44\n",
      "2 x 23 = 46\n",
      "2 x 24 = 48\n",
      "2 x 25 = 50\n",
      "2 x 26 = 52\n",
      "2 x 27 = 54\n",
      "2 x 28 = 56\n",
      "2 x 29 = 58\n",
      "2 x 30 = 60\n",
      "2 x 31 = 62\n",
      "2 x 32 = 64\n",
      "2 x 33 = 66\n",
      "2 x 34 = 68\n",
      "2 x 35 = 70\n",
      "2 x 36 = 72\n",
      "2 x 37 = 74\n",
      "2 x 38 = 76\n",
      "2 x 39 = 78\n",
      "2 x 40 = 80\n",
      "2 x 41 = 82\n",
      "2 x 42 = 84\n",
      "2 x 43 = 86\n",
      "2 x 44 = 88\n",
      "2 x 45 = 90\n",
      "2 x 46 = 92\n",
      "2 x 47 = 94\n",
      "2 x 48 = 96\n",
      "2 x 49 = 98\n",
      "2 x 50 = 100\n",
      "2 x 51 = 102\n",
      "2 x 52 = 104\n",
      "2 x 53 = 106\n",
      "2 x 54 = 108\n",
      "2 x 55 = 110\n",
      "2 x 56 = 112\n",
      "2 x 57 = 114\n",
      "2 x 58 = 116\n",
      "2 x 59 = 118\n",
      "2 x 60 = 120\n",
      "2 x 61 = 122\n",
      "2 x 62 = 124\n",
      "2 x 63 = 126\n",
      "2 x 64 = 128\n",
      "2 x 65 = 130\n",
      "2 x 66 = 132\n",
      "2 x 67 = 134\n",
      "2 x 68 = 136\n",
      "2 x 69 = 138\n",
      "2 x 70 = 140\n",
      "2 x 71 = 142\n",
      "2 x 72 = 144\n",
      "2 x 73 = 146\n",
      "2 x 74 = 148\n",
      "2 x 75 = 150\n",
      "2 x 76 = 152\n",
      "2 x 77 = 154\n",
      "2 x 78 = 156\n",
      "2 x 79 = 158\n",
      "2 x 80 = 160\n",
      "2 x 81 = 162\n",
      "2 x 82 = 164\n",
      "2 x 83 = 166\n",
      "2 x 84 = 168\n",
      "2 x 85 = 170\n",
      "2 x 86 = 172\n",
      "2 x 87 = 174\n",
      "2 x 88 = 176\n",
      "2 x 89 = 178\n",
      "2 x 90 = 180\n",
      "2 x 91 = 182\n",
      "2 x 92 = 184\n",
      "2 x 93 = 186\n",
      "2 x 94 = 188\n",
      "2 x 95 = 190\n",
      "2 x 96 = 192\n",
      "2 x 97 = 194\n",
      "2 x 98 = 196\n",
      "2 x 99 = 198\n",
      "2 x 100 = 200\n",
      "2 x 101 = 202\n",
      "2 x 102 = 204\n",
      "2 x 103 = 206\n",
      "2 x 104 = 208\n",
      "2 x 105 = 210\n",
      "2 x 106 = 212\n",
      "2 x 107 = 214\n",
      "2 x 108 = 216\n",
      "2 x 109 = 218\n"
     ]
    }
   ],
   "source": [
    "for n in range(1,110):\n",
    "    print(f\"{2} x {n} = {2*n}\")"
   ]
  },
  {
   "cell_type": "code",
   "execution_count": 19,
   "metadata": {},
   "outputs": [
    {
     "name": "stdout",
     "output_type": "stream",
     "text": [
      "[1, 4, 9, 16, 25, 36, 49, 64, 81, 100]\n"
     ]
    }
   ],
   "source": [
    "squares:list[int]= []\n",
    "for value in range(1,11):\n",
    "    squre = value**2;\n",
    "    squares.append(squre)\n",
    "print(squares)"
   ]
  },
  {
   "cell_type": "code",
   "execution_count": 20,
   "metadata": {},
   "outputs": [
    {
     "data": {
      "text/plain": [
       "[0, 1, 4, 9, 16, 25, 36, 49, 64, 81, 100]"
      ]
     },
     "execution_count": 20,
     "metadata": {},
     "output_type": "execute_result"
    }
   ],
   "source": [
    "[i**2 for i in range(0,11)]"
   ]
  }
 ],
 "metadata": {
  "kernelspec": {
   "display_name": "Python 3",
   "language": "python",
   "name": "python3"
  },
  "language_info": {
   "codemirror_mode": {
    "name": "ipython",
    "version": 3
   },
   "file_extension": ".py",
   "mimetype": "text/x-python",
   "name": "python",
   "nbconvert_exporter": "python",
   "pygments_lexer": "ipython3",
   "version": "3.12.0"
  }
 },
 "nbformat": 4,
 "nbformat_minor": 2
}
