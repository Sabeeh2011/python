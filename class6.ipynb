{
 "cells": [
  {
   "cell_type": "code",
   "execution_count": 1,
   "metadata": {},
   "outputs": [
    {
     "name": "stdout",
     "output_type": "stream",
     "text": [
      "Pakistan Zindabad\n"
     ]
    }
   ],
   "source": [
    "print(\"Pakistan Zindabad\") if True else print(\"Hello World\");"
   ]
  },
  {
   "cell_type": "code",
   "execution_count": 3,
   "metadata": {},
   "outputs": [
    {
     "name": "stdout",
     "output_type": "stream",
     "text": [
      "Hello World\n"
     ]
    }
   ],
   "source": [
    "print(\"Pakistan Zindabad\") if False else print(\"Hello World\")"
   ]
  },
  {
   "cell_type": "code",
   "execution_count": 4,
   "metadata": {},
   "outputs": [],
   "source": [
    "from typing import Union"
   ]
  },
  {
   "cell_type": "code",
   "execution_count": 7,
   "metadata": {},
   "outputs": [
    {
     "name": "stdout",
     "output_type": "stream",
     "text": [
      "Dear Student your percentage is 50 and you are in grade D\n"
     ]
    }
   ],
   "source": [
    "per : Union[int,float]=int(input(\"Enter your percentage :\\t\"))\n",
    "grade : Union [str,None]=None\n",
    "if per >=90:\n",
    "    grade=\"A+\";\n",
    "elif per >=80:\n",
    "    grade=\"A\";\n",
    "elif per >=70:\n",
    "    grade=\"B\";\n",
    "elif per >=60:\n",
    "    grade=\"C\";\n",
    "elif per>=50:\n",
    "    grade=\"D\";\n",
    "elif per>=40:\n",
    "    grade=\"E\";\n",
    "else:\n",
    "    grade=\"F\";\n",
    "print(f\"Dear Student your percentage is {per} and you are in grade {grade}\")\n",
    "    "
   ]
  }
 ],
 "metadata": {
  "kernelspec": {
   "display_name": "Python 3",
   "language": "python",
   "name": "python3"
  },
  "language_info": {
   "codemirror_mode": {
    "name": "ipython",
    "version": 3
   },
   "file_extension": ".py",
   "mimetype": "text/x-python",
   "name": "python",
   "nbconvert_exporter": "python",
   "pygments_lexer": "ipython3",
   "version": "3.12.0"
  }
 },
 "nbformat": 4,
 "nbformat_minor": 2
}
